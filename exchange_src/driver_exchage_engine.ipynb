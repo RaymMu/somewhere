{
 "cells": [
  {
   "cell_type": "markdown",
   "source": [
    "###  0.1 Import Libraries"
   ],
   "metadata": {
    "collapsed": false
   },
   "id": "9a6322a13a26fcd8"
  },
  {
   "cell_type": "code",
   "execution_count": 1,
   "outputs": [],
   "source": [
    "from exchange_getter import ExchangeGetter\n",
    "from exchange_engine import ExchangeEngine"
   ],
   "metadata": {
    "collapsed": false,
    "ExecuteTime": {
     "end_time": "2024-02-26T14:53:25.383973300Z",
     "start_time": "2024-02-26T14:53:24.973215200Z"
    }
   },
   "id": "86167c273cb52142"
  },
  {
   "cell_type": "markdown",
   "source": [
    "### 0.2 Create Global Variables (Likely taken from a config file)"
   ],
   "metadata": {
    "collapsed": false
   },
   "id": "f27d3e89a671f909"
  },
  {
   "cell_type": "code",
   "execution_count": 2,
   "outputs": [],
   "source": [
    "currency_exchange_list = ['USDCAD', 'GBPCAD', 'EURCAD']\n",
    "file_path = r\"C:\\Users\\rmu\\Documents\\GitHub\\CA-Risk\\Bloomberg FX Fwd Curve.xlsx\"\n",
    "start_month = 1\n",
    "start_year =  2024"
   ],
   "metadata": {
    "collapsed": false,
    "ExecuteTime": {
     "end_time": "2024-02-26T14:53:25.394764100Z",
     "start_time": "2024-02-26T14:53:25.388753Z"
    }
   },
   "id": "b702e4062eebd2b9"
  },
  {
   "cell_type": "markdown",
   "source": [
    "### 1 Load Currency Exchange Rates"
   ],
   "metadata": {
    "collapsed": false
   },
   "id": "6c0b4690aa88d596"
  },
  {
   "cell_type": "code",
   "execution_count": 3,
   "outputs": [],
   "source": [
    "currency_exchange_dict = ExchangeGetter.get_currency_exchange(file_path=file_path, \n",
    "                                                              currency_exchange_list=currency_exchange_list)"
   ],
   "metadata": {
    "collapsed": false,
    "ExecuteTime": {
     "end_time": "2024-02-26T14:53:26.135034500Z",
     "start_time": "2024-02-26T14:53:25.388753Z"
    }
   },
   "id": "9d6c66918093ed29"
  },
  {
   "cell_type": "markdown",
   "source": [
    "### 2 Define Currency Data Pipeline"
   ],
   "metadata": {
    "collapsed": false
   },
   "id": "35fc1201bc2e4f63"
  },
  {
   "cell_type": "code",
   "execution_count": 4,
   "outputs": [],
   "source": [
    "# define currency exchange cleaning processes\n",
    "exchange_engine = ExchangeEngine(start_month = start_month, start_year = start_year)\n",
    "\n",
    "process_pipeline = [exchange_engine.clean_currency_exchange_dfs, # select columns, drop empty cells, etc.\n",
    "                    exchange_engine.add_year_month, # transform date, add year and month columns\n",
    "                    exchange_engine.calculate_mean_exchange_rate, # calculate mean exchange based on forward bid and ask\n",
    "                    exchange_engine.select_starting_point_rate, # select the starting point rate for start year and month\n",
    "                    exchange_engine.forward_fill_exchange_rate,# forward fill the exchange rate for the next 100 years\n",
    "                    ]"
   ],
   "metadata": {
    "collapsed": false,
    "ExecuteTime": {
     "end_time": "2024-02-26T14:53:26.151658100Z",
     "start_time": "2024-02-26T14:53:26.128949500Z"
    }
   },
   "id": "b56411299a54d81a"
  },
  {
   "cell_type": "markdown",
   "source": [
    "### 3 Deploy Defined Process workflow to Currency Exchange Data"
   ],
   "metadata": {
    "collapsed": false
   },
   "id": "74a445134c585bf5"
  },
  {
   "cell_type": "code",
   "execution_count": 5,
   "outputs": [],
   "source": [
    "for currency_key in currency_exchange_dict:\n",
    "    for process in process_pipeline:\n",
    "        currency_exchange_dict[currency_key] = process(currency_exchange_dict[currency_key])\n",
    "    \n",
    "    # update column 'mean_exchange_rate' base on dict key value\n",
    "    currency_exchange_dict[currency_key] = exchange_engine.rename_df_based_on_key(currency_exchange_dict[currency_key], currency_key)"
   ],
   "metadata": {
    "collapsed": false,
    "ExecuteTime": {
     "end_time": "2024-02-26T14:53:26.181216100Z",
     "start_time": "2024-02-26T14:53:26.135034500Z"
    }
   },
   "id": "cfa22317f7e6d0ba"
  },
  {
   "cell_type": "markdown",
   "source": [
    "### 4 Combine All Exchange Rate in 1 mega dataframe ease for search"
   ],
   "metadata": {
    "collapsed": false
   },
   "id": "6830866e4188cfe3"
  },
  {
   "cell_type": "code",
   "execution_count": 6,
   "outputs": [],
   "source": [
    "#combine all exchange rate into 1 dataframe, base on year and month column\n",
    "mega_exchange_rate_df = exchange_engine.combine_currency_exchange_dfs(list(currency_exchange_dict.values()))"
   ],
   "metadata": {
    "collapsed": false,
    "ExecuteTime": {
     "end_time": "2024-02-26T14:53:26.181216100Z",
     "start_time": "2024-02-26T14:53:26.176212400Z"
    }
   },
   "id": "fb37733aa8136789"
  },
  {
   "cell_type": "markdown",
   "source": [
    "### 5 Load Mega Exchange Rate Data into Exchange Engine"
   ],
   "metadata": {
    "collapsed": false
   },
   "id": "ebb0a0197b92efbe"
  },
  {
   "cell_type": "code",
   "execution_count": 7,
   "outputs": [],
   "source": [
    "exchange_engine.load_mega_exchange_rate(mega_exchange_rate_df)\n",
    "\n",
    "# export exchange rate\n",
    "exchange_engine.export_exchange_df('result.csv')"
   ],
   "metadata": {
    "collapsed": false,
    "ExecuteTime": {
     "end_time": "2024-02-26T14:53:26.196963800Z",
     "start_time": "2024-02-26T14:53:26.181216100Z"
    }
   },
   "id": "8958524075761ac1"
  },
  {
   "cell_type": "code",
   "execution_count": 8,
   "outputs": [
    {
     "data": {
      "text/plain": "      year  month  USDCAD_Exchange_Rate  GBPCAD_Exchange_Rate  \\\n0     2024      1              1.324300              1.687150   \n1     2024      2              1.323711              1.686666   \n2     2024      3              1.323165              1.686259   \n3     2024      4              1.322672              1.685818   \n4     2024      5              1.322168              1.685236   \n...    ...    ...                   ...                   ...   \n1207  2124      8              1.114919              1.521172   \n1208  2124      9              1.114919              1.521172   \n1209  2124     10              1.114919              1.521172   \n1210  2124     11              1.114919              1.521172   \n1211  2124     12              1.114919              1.521172   \n\n      EURCAD_Exchange_Rate  \n0                 1.460610  \n1                 1.461825  \n2                 1.462903  \n3                 1.464187  \n4                 1.465499  \n...                    ...  \n1207              1.707241  \n1208              1.707241  \n1209              1.707241  \n1210              1.707241  \n1211              1.707241  \n\n[1212 rows x 5 columns]",
      "text/html": "<div>\n<style scoped>\n    .dataframe tbody tr th:only-of-type {\n        vertical-align: middle;\n    }\n\n    .dataframe tbody tr th {\n        vertical-align: top;\n    }\n\n    .dataframe thead th {\n        text-align: right;\n    }\n</style>\n<table border=\"1\" class=\"dataframe\">\n  <thead>\n    <tr style=\"text-align: right;\">\n      <th></th>\n      <th>year</th>\n      <th>month</th>\n      <th>USDCAD_Exchange_Rate</th>\n      <th>GBPCAD_Exchange_Rate</th>\n      <th>EURCAD_Exchange_Rate</th>\n    </tr>\n  </thead>\n  <tbody>\n    <tr>\n      <th>0</th>\n      <td>2024</td>\n      <td>1</td>\n      <td>1.324300</td>\n      <td>1.687150</td>\n      <td>1.460610</td>\n    </tr>\n    <tr>\n      <th>1</th>\n      <td>2024</td>\n      <td>2</td>\n      <td>1.323711</td>\n      <td>1.686666</td>\n      <td>1.461825</td>\n    </tr>\n    <tr>\n      <th>2</th>\n      <td>2024</td>\n      <td>3</td>\n      <td>1.323165</td>\n      <td>1.686259</td>\n      <td>1.462903</td>\n    </tr>\n    <tr>\n      <th>3</th>\n      <td>2024</td>\n      <td>4</td>\n      <td>1.322672</td>\n      <td>1.685818</td>\n      <td>1.464187</td>\n    </tr>\n    <tr>\n      <th>4</th>\n      <td>2024</td>\n      <td>5</td>\n      <td>1.322168</td>\n      <td>1.685236</td>\n      <td>1.465499</td>\n    </tr>\n    <tr>\n      <th>...</th>\n      <td>...</td>\n      <td>...</td>\n      <td>...</td>\n      <td>...</td>\n      <td>...</td>\n    </tr>\n    <tr>\n      <th>1207</th>\n      <td>2124</td>\n      <td>8</td>\n      <td>1.114919</td>\n      <td>1.521172</td>\n      <td>1.707241</td>\n    </tr>\n    <tr>\n      <th>1208</th>\n      <td>2124</td>\n      <td>9</td>\n      <td>1.114919</td>\n      <td>1.521172</td>\n      <td>1.707241</td>\n    </tr>\n    <tr>\n      <th>1209</th>\n      <td>2124</td>\n      <td>10</td>\n      <td>1.114919</td>\n      <td>1.521172</td>\n      <td>1.707241</td>\n    </tr>\n    <tr>\n      <th>1210</th>\n      <td>2124</td>\n      <td>11</td>\n      <td>1.114919</td>\n      <td>1.521172</td>\n      <td>1.707241</td>\n    </tr>\n    <tr>\n      <th>1211</th>\n      <td>2124</td>\n      <td>12</td>\n      <td>1.114919</td>\n      <td>1.521172</td>\n      <td>1.707241</td>\n    </tr>\n  </tbody>\n</table>\n<p>1212 rows × 5 columns</p>\n</div>"
     },
     "execution_count": 8,
     "metadata": {},
     "output_type": "execute_result"
    }
   ],
   "source": [
    "mega_exchange_rate_df"
   ],
   "metadata": {
    "collapsed": false,
    "ExecuteTime": {
     "end_time": "2024-02-26T14:53:32.985128300Z",
     "start_time": "2024-02-26T14:53:32.925707200Z"
    }
   },
   "id": "921357eef62d41f5"
  },
  {
   "cell_type": "code",
   "execution_count": null,
   "outputs": [],
   "source": [],
   "metadata": {
    "collapsed": false
   },
   "id": "6b9e2ff78a56f077"
  }
 ],
 "metadata": {
  "kernelspec": {
   "display_name": "Python 3",
   "language": "python",
   "name": "python3"
  },
  "language_info": {
   "codemirror_mode": {
    "name": "ipython",
    "version": 2
   },
   "file_extension": ".py",
   "mimetype": "text/x-python",
   "name": "python",
   "nbconvert_exporter": "python",
   "pygments_lexer": "ipython2",
   "version": "2.7.6"
  }
 },
 "nbformat": 4,
 "nbformat_minor": 5
}
